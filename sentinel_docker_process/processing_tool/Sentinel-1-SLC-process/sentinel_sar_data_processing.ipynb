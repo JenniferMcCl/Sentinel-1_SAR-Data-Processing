{
 "cells": [
  {
   "cell_type": "code",
   "execution_count": null,
   "id": "15ba7d32-feda-4024-bded-03fcd73b3bd0",
   "metadata": {
    "tags": []
   },
   "outputs": [],
   "source": [
    "from controller_modules.create_user_setting_file import CreateUserSetting\n",
    "from controller_modules.log_output import LogOutput\n",
    "from controller_modules.snap_graph_processing import SnapGraphProcessing\n",
    "from controller_modules.specific_snap_graph_processing import SpecificSnapGraphProcessing\n",
    "from controller_modules.create_input_output import CreateInputOutput\n",
    "from controller_modules.pyFunc_queries import PyFuncQueries\n",
    "from controller_modules.geo_position import GeoPosition\n",
    "\n",
    "import time\n",
    "import os"
   ]
  },
  {
   "cell_type": "code",
   "execution_count": null,
   "id": "845cd545-427e-47d5-a906-80e3bd12b9d8",
   "metadata": {
    "tags": []
   },
   "outputs": [],
   "source": [
    "%reload_ext autoreload\n",
    "%autoreload 2"
   ]
  },
  {
   "cell_type": "markdown",
   "id": "cfd3aaa2-38c9-4d43-813f-d3200bfa9ce6",
   "metadata": {},
   "source": [
    "///////////////////////////This Notebook is to perform test for a sequences of snap graph operations.\\\\\\\\\\\\\\\\\\\\\\\\\\\\\\\\\\\\\\\\\\\\\\\\\\\\\\\\\\\\\\\\\\\\\\\\\\\\\\\\\\"
   ]
  },
  {
   "cell_type": "markdown",
   "id": "92db9707-235f-4f66-86c8-31791d7e4e81",
   "metadata": {},
   "source": [
    "///////////////////////////This can be done for single scenes or list of scenes created over test.geojson AOI.\\\\\\\\\\\\\\\\\\\\\\\\\\\\\\\\\\\\\\\\\\\\\\\\\\\\\\\\\\\\\\\\\\\\\\\\\\"
   ]
  },
  {
   "cell_type": "code",
   "execution_count": null,
   "id": "d0cf64ab-cf7e-478e-a56d-586c83d9fba5",
   "metadata": {},
   "outputs": [],
   "source": [
    "# Here all modules are created and initialized as well as the neccessary snap xml graph operator parameters set.\n",
    "\n",
    "userSettings = CreateUserSetting()\n",
    "logOutput = LogOutput()\n",
    "snapGraphProcessing = SnapGraphProcessing()\n",
    "\n",
    "# All snap xml graph files lie in the snap_graph_files folder of the repository.\n",
    "specificSnapGraphProcessing = SpecificSnapGraphProcessing(os.getcwd() + \"/snap_graph_files/\", userSettings.dataPath)\n",
    "specificSnapGraphProcessing.setAllProcessingParameters()"
   ]
  },
  {
   "cell_type": "markdown",
   "id": "b6ae3fa1-79fe-4180-b769-0bc86076f860",
   "metadata": {},
   "source": [
    "Ensure user_settings.xml file was created and all paths added in correct xml format."
   ]
  },
  {
   "cell_type": "markdown",
   "id": "36933d9d-bffe-4cb3-8156-6a588d3640b0",
   "metadata": {},
   "source": [
    "//////////////////////////This is where the test processing chain starts//////////////////////////////////"
   ]
  },
  {
   "cell_type": "code",
   "execution_count": null,
   "id": "b3b9a72c-a8a3-421d-a32a-fd5fc64559f3",
   "metadata": {},
   "outputs": [],
   "source": [
    "# Here test file is pointed to in user settings.\n",
    "# This can be changed to other geojson file with different AOI.\n",
    "# Size of AOI is limited to max the size of one Scene (appromimately 200km²)!!!\n",
    "geojson = os.getcwd() + '/test_files/test.geojson'\n",
    "userSettings.setAttribute(\"aoiLocation\", geojson)\n",
    "\n",
    "# Start and end date can be changed. Date Format must be: YYYY-MM-DD!!!\n",
    "userSettings.setAttribute(\"calculationStartDate\", \"2021-03-01\")\n",
    "userSettings.setAttribute(\"calculationEndDate\", \"2021-03-10\")"
   ]
  },
  {
   "cell_type": "markdown",
   "id": "f7a22d4d-e8f6-4ac0-849e-f1c7ae5ae3b1",
   "metadata": {},
   "source": [
    "//////////////////////////This is to create list of scenes for batch processing//////////////////////////////////"
   ]
  },
  {
   "cell_type": "code",
   "execution_count": null,
   "id": "208c0c65-3fd4-42bd-8367-cd89cbde45f7",
   "metadata": {},
   "outputs": [],
   "source": [
    "# Both product types are used to create all lists\n",
    "productTypeSlc = 'SLC'\n",
    "productTypeGrd = 'GRD'\n",
    "\n",
    "# Internally wkt is used by Snap for calculations \n",
    "wktAoiSettings = GeoPosition().loadWktFromGeojson(geojson)\n",
    "\n",
    "# All tiles underlying Aoi are derived for time range from Code-De over url query.\n",
    "tilesSlc = PyFuncQueries().buildSentinel1QueryTileList(geojson, userSettings.calculationStartDate, userSettings.calculationEndDate, productTypeSlc)\n",
    "tilesGrd = PyFuncQueries().buildSentinel1QueryTileList(geojson, userSettings.calculationStartDate, userSettings.calculationEndDate, productTypeGrd)\n",
    "\n",
    "# Filtered and reformatted lists are created with all duplicates removed. \n",
    "# Pairs are generated for cases where slice must be performed before processing.\n",
    "# Pairs of pairs are created for coherence calculation.\n",
    "# A txt file containing these lists is saved in a precreated in_output_file_list folder in the user settings main output path.\n",
    "filePath = userSettings.dataPath + \"in_output_file_list/\"\n",
    "inOutputListSlc = CreateInputOutput().generateFileList(tilesSlc, productTypeSlc, userSettings.calculationStartDate, userSettings.calculationEndDate, \n",
    "                                                       filePath)\n",
    "inOutputListGrd = CreateInputOutput().generateFileList(tilesGrd, productTypeGrd, userSettings.calculationStartDate, userSettings.calculationEndDate, \n",
    "                                                       filePath)\n",
    "\n",
    "vegIdProcessingList = inOutputListSlc[0] if len(inOutputListSlc) >= 1 else []\n",
    "cohProcessingList12Days = inOutputListSlc[1] if len(inOutputListSlc) >= 2 else []\n",
    "cohProcessingList6Days = inOutputListSlc[2] if len(inOutputListSlc) == 3 else []\n",
    "backscatterProcessingList = inOutputListGrd"
   ]
  },
  {
   "cell_type": "markdown",
   "id": "ac97eedb-d00e-4c2f-b8c9-b7bd91115756",
   "metadata": {},
   "source": [
    "//////////////////////////Test DBackscatter calculation on single scene and Batch of scenes.//////////////////////////////////"
   ]
  },
  {
   "cell_type": "code",
   "execution_count": null,
   "id": "e86b73e1-aa01-4118-8324-b3474c5a429e",
   "metadata": {
    "tags": []
   },
   "outputs": [],
   "source": [
    "%%time\n",
    "# ###################This is for calculation of backscatter ######################\n",
    "\n",
    "# This is for testing one single list entry and diverse aoi with all possible overlapping szenarios\n",
    "testElementSlice = [\"/codede/Sentinel-1/SAR/GRD/2021/10/28/S1B_IW_GRDH_1SDV_20211028T172433_20211028T172458_029339_038065_C12A.SAFE, /codede/Sentinel-1/SAR/GRD/2021/10/28/S1B_IW_GRDH_1SDV_20211028T172408_20211028T172433_029339_038065_94DA.SAFE\",\n",
    "                    \"S1B_20211028_VVVH_88_desc_BS.tif\"]\n",
    "\n",
    "testElementSingle = [\"/codede/Sentinel-1/SAR/GRD/2021/03/01/S1A_IW_GRDH_1SDV_20210301T173254_20210301T173319_036808_0453E1_C7B4.SAFE\",\"S1A_20210301_VVVH_161_desc_BS.tif\"]\n",
    "\n",
    "# Log file will be written and placed in folder in user settings main path\n",
    "# Try both test elements and check for calculation times.\n",
    "logOutput.createLogOutputFile(\"test_backscatter\")\n",
    "specificSnapGraphProcessing.multiSceneProcBackscatter(testElementSlice, \"Test_AOI\", wktAoiSettings, userSettings.backscatterOutputPath, logOutput)\n",
    "logOutput.closeCurrentFile()\n",
    "\n",
    "# This is for batch process of list\n",
    "BatchProcessing(userSettings).calculateBackscatter(backscatterProcessingList, wktAoiSettings, userSettings)"
   ]
  },
  {
   "cell_type": "markdown",
   "id": "bbf7b440-1ffb-48c2-a173-97576e66449d",
   "metadata": {},
   "source": [
    "//////////////////////////Test Dual pol and Compact Pol calculation on single scene and Batch of scenes.//////////////////////////////////"
   ]
  },
  {
   "cell_type": "code",
   "execution_count": null,
   "id": "5bde2549-81a2-4f75-9601-cf2e019a88da",
   "metadata": {
    "tags": []
   },
   "outputs": [],
   "source": [
    "%%time\n",
    "# This is for testing one single list entry and diverse aoi with all possible overlapping szenarios\n",
    "testElementSlice = [\"/codede/Sentinel-1/SAR/SLC/2021/10/16/S1B_IW_SLC__1SDV_20211016T172431_20211016T172459_029164_037B03_CC7D.SAFE, /codede/Sentinel-1/SAR/SLC/2021/10/16/S1B_IW_SLC__1SDV_20211016T172406_20211016T172434_029164_037B03_3CF0.SAFE\",\n",
    "  \"S1B_20211028_VVVH_88_desc_polVI2.tif\"]\n",
    "\n",
    "testElementSingle = [\"/codede/Sentinel-1/SAR/GRD/2021/10/28/S1B_IW_GRDH_1SDV_20211028T172433_20211028T172458_029339_038065_C12A.SAFE \", \"S1B_20211028_VVVH_88_desc_polVI.tif\"]\n",
    "\n",
    "# Log file will be written and placed in folder in user settings main path.\n",
    "# Try both test elements and check for calculation times.\n",
    "logOutput.createLogOutputFile(\"test_rad_veg_id\")\n",
    "specificSnapGraphProcessing.multiSceneProcRadVegId(testElementSlice, \"Test_AOI\", wktAoiSettings, userSettings.dpVegIndexPath, logOutput)\n",
    "logOutput.closeCurrentFile()\n",
    "\n",
    "# This is for batch process of list\n",
    "BatchProcessing(userSettings).calculateVegIndex(vegIdProcessingList, wktAoiSettings, userSettings)"
   ]
  },
  {
   "cell_type": "markdown",
   "id": "d2a0a09e-3153-4148-9769-25e7f5af0309",
   "metadata": {},
   "source": [
    "//////////////////////////Test Coherence calculation on single scene and Batch of scenes.//////////////////////////////////"
   ]
  },
  {
   "cell_type": "code",
   "execution_count": null,
   "id": "d050a7a1-feb8-45ae-a28b-5f37aaad48c7",
   "metadata": {},
   "outputs": [],
   "source": [
    "%%time\n",
    "# ###################This is for calculation of coherence##########################\n",
    "\n",
    "# This is for testing one single list entry and diverse aoi with all possible overlapping szenarios\n",
    "testElementSlice = ['/codede/Sentinel-1/SAR/SLC/2021/03/03/S1A_IW_SLC__1SDV_20210303T171640_20210303T171708_036837_0454E5_4937.SAFE',\n",
    "  '/codede/Sentinel-1/SAR/SLC/2021/03/09/S1B_IW_SLC__1SDV_20210309T171611_20210309T171638_025941_031822_8848.SAFE, /codede/Sentinel-1/SAR/SLC/2021/03/09/S1B_IW_SLC__1SDV_20210309T171546_20210309T171613_025941_031822_F893.SAFE',\n",
    "  'S1A_20210303_20210309_VVVH_15_desc_coh6d']\n",
    "\n",
    "testElementSingle = ['/codede/Sentinel-1/SAR/SLC/2021/03/01/S1B_IW_SLC__1SDV_20210301T053314_20210301T053341_025817_03141D_C5C5.SAFE',\n",
    "  '/codede/Sentinel-1/SAR/SLC/2021/03/07/S1A_IW_SLC__1SDV_20210307T053412_20210307T053439_036888_0456B1_5BAE.SAFE',\n",
    "  'S1B_20210301_20210307_VVVH_66_asc_coh6d']\n",
    "\n",
    "# Log file will be written and placed in folder in user settings main path\n",
    "# Try both test elements and check for calculation times.\n",
    "logOutput.createLogOutputFile(\"test_coherence\")\n",
    "specificSnapGraphProcessing.multiSceneProcCoherence(testElementSingle, \"Test_AOI\", wktAoiSettings, userSettings.cohOutputPath, logOutput)\n",
    "logOutput.closeCurrentFile()\n",
    "\n",
    "# This is for batch process of list\n",
    "BatchProcessing(userSettings).calculateCoh(cohProcessingList6Days, cohProcessingList12Days, wktAoiSettings, userSettings)"
   ]
  },
  {
   "cell_type": "code",
   "execution_count": null,
   "id": "49523ab6-72be-4859-bb9b-1d04907a42bf",
   "metadata": {},
   "outputs": [],
   "source": [
    "# Example for deriving Aoi of scenes\n",
    "sceneList =['/codede/Sentinel-1/SAR/GRD/2020/01/11/S1B_IW_GRDH_1SDV_20200111T054051_20200111T054116_019765_0255EE_2BC5.SAFE', '/codede/Sentinel-1/SAR/GRD/2020/01/11/S1B_IW_GRDH_1SDV_20200111T054029_20200111T054054_019765_0255EE_6795.SAFE',\n",
    "           '/codede/Sentinel-1/SAR/GRD/2020/01/16/S1B_IW_GRDH_1SDV_20200116T170030_20200116T170055_019845_025868_D776.SAFE', '/codede/Sentinel-1/SAR/GRD/2020/01/16/S1B_IW_GRDH_1SDV_20200116T170005_20200116T170030_019845_025868_218E.SAFE']\n",
    "wktAoi = []\n",
    "for i in sceneList:\n",
    "    wktAoi.append(GeoPosition().getWktFromScene(i + \"/manifest.safe\"))\n",
    "string = str(wktAoi)\n",
    "print(string.replace(\"'\", ''))"
   ]
  },
  {
   "cell_type": "code",
   "execution_count": null,
   "id": "2b23951b-93cd-468c-9f79-b0c9940ff5f1",
   "metadata": {
    "tags": []
   },
   "outputs": [],
   "source": [
    "# Example for performing graph sequence Split -> Slice -> Merge -> Subset on all SW of 2 scenes\n",
    "scene1 = '/codede/Sentinel-1/SAR/SLC/2022/03/14/S1A_IW_SLC__1SDV_20220314T053418_20220314T053445_042313_050B38_C57E.SAFE'\n",
    "scene2 = '/codede/Sentinel-1/SAR/SLC/2022/03/14/S1A_IW_SLC__1SDV_20220314T053442_20220314T053510_042313_050B38_0B46.SAFE'\n",
    "specificSnapGraphProcessing.setSplitSliceMergeSubsetMultiPaths(scene1, scene2, userSettings.dataPath + \"spacial_output/\")\n",
    "\n",
    "# ###################This performs Split Slice Merge Subset on two given scenes#########################\n",
    "wktAoi=\"POLYGON((8.187561035156248 50.23315183247226,8.88519287109375 50.24369202255804,8.90167236328125 49.91939873027269,8.20404052734375 49.901711217260896,8.187561035156248 50.23315183247226))\"\n",
    "specificSnapGraphProcessing.setSubsetAoiValue(wktAoi)\n",
    "\n",
    "specificSnapGraphProcessing.processSplitSliceMergeSubset(scene1)\n",
    "specificSnapGraphProcessing.deleteAllTempFiles()"
   ]
  },
  {
   "cell_type": "code",
   "execution_count": null,
   "id": "2e840e16-a7cb-4100-b18c-a24318b536b2",
   "metadata": {
    "tags": []
   },
   "outputs": [],
   "source": [
    "%%time\n",
    "# This is to performing S1 Slice-Assembly operator on a list of 2 scenes\n",
    "scene1 = '/codede/Sentinel-1/SAR/GRD/2022/08/11/S1A_IW_GRDH_1SDV_20220811T173243_20220811T173308_044508_054FB6_45E2.SAFE'\n",
    "scene2 = '/codede/Sentinel-1/SAR/GRD/2022/08/11/S1A_IW_GRDH_1SDV_20220811T173218_20220811T173243_044508_054FB6_EAB8.SAFE'\n",
    "\n",
    "logOutput.createLogOutputFile(\"spacial_calc\")\n",
    "specificSnapGraphProcessing.setAndProcessSlice(scene1, scene2,  userSettings.dataPath + \"spacial_output/\", logOutput)\n",
    "logOutput.closeCurrentFile()\n",
    "specificSnapGraphProcessing.deleteAllTempFiles()"
   ]
  }
 ],
 "metadata": {
  "kernelspec": {
   "display_name": "env_basic",
   "language": "python",
   "name": "env_basic"
  },
  "language_info": {
   "codemirror_mode": {
    "name": "ipython",
    "version": 3
   },
   "file_extension": ".py",
   "mimetype": "text/x-python",
   "name": "python",
   "nbconvert_exporter": "python",
   "pygments_lexer": "ipython3",
   "version": "3.9.10"
  }
 },
 "nbformat": 4,
 "nbformat_minor": 5
}
