{
 "cells": [
  {
   "cell_type": "code",
   "execution_count": null,
   "id": "1156c614-10a2-4068-b03a-70b7cce1569d",
   "metadata": {
    "tags": []
   },
   "outputs": [],
   "source": [
    "from controller_modules.create_user_setting_file import CreateUserSetting\n",
    "from controller_modules.geo_position import GeoPosition\n",
    "\n",
    "import os\n",
    "import rasterio\n",
    "from snappy import ProductIO\n",
    "import json\n",
    "\n",
    "from sentinelsat import geojson_to_wkt\n",
    "\n",
    "import numpy as np\n",
    "import matplotlib.pyplot as plt\n",
    "\n",
    "from snapista import Graph\n",
    "from snapista import operator\n",
    "\n",
    "from pyproj import Geod\n",
    "from shapely import wkt"
   ]
  },
  {
   "cell_type": "code",
   "execution_count": null,
   "id": "827f0adb-bb13-4c7d-924a-fbfa565813f5",
   "metadata": {
    "tags": []
   },
   "outputs": [],
   "source": [
    "%reload_ext autoreload\n",
    "%autoreload 2"
   ]
  },
  {
   "cell_type": "code",
   "execution_count": null,
   "id": "24625191-5b75-4bd9-92c7-5d41a7e15136",
   "metadata": {},
   "outputs": [],
   "source": [
    "#This is an example how to use Snapista to acquire the parameters for a specific operator.\n",
    "Graph.describe_operators() \n",
    "cpRadIndex = Operator('Compactpol-Radar-Vegetation-Index')\n",
    "cpRadIndex.describe()"
   ]
  },
  {
   "cell_type": "code",
   "execution_count": null,
   "id": "cc6b5a21-954d-425f-b6fa-4d5f72146190",
   "metadata": {},
   "outputs": [],
   "source": [
    "# Here are examples how to use the GeoPosition class to transform coordinate formats\n",
    "\n",
    "wktPos = GeoPosition().loadWktFromGeojson(os.getcwd() + \"/test_files/test.geojson\")\n",
    "geoPoly = GeoPosition().wktToGeojsonShapely(wktPos)\n",
    "wktPos2 = GeoPosition().geojsonToWktShapely({\"coordinates\": [[[5.937195, 51.057509], [6.936951, 51.040243], [6.909485, 50.676156], [5.909729, 50.693558], [5.937195, 51.057509]]], \"type\": \"Polygon\"})\n",
    "\n",
    "strCoord = \"49.137486,15.163726 49.541000,11.631568 51.162888,12.017920 50.757259,15.674513\"\n",
    "wktSnap = GeoPosition().snapCoordsToWkt(strCoord)\n",
    "\n",
    "[wktPos,geoPoly,wktPos2,strCoord,wktSnap]"
   ]
  },
  {
   "cell_type": "code",
   "execution_count": null,
   "id": "fa8f125e-1b10-4a05-92cf-47de0d59e2ba",
   "metadata": {},
   "outputs": [],
   "source": [
    "# This is an example on how to calculate the m² adn km² of a AOI polygon in wkt and WGS84\n",
    "poly = wkt.loads('POLYGON ((11.383526802062988 48.529563903808594, 11.968979835510254 48.529563903808594, 11.968979835510254 48.324623107910156, 11.383526802062988 48.324623107910156, 11.383526802062988 48.529563903808594, 11.383526802062988 48.529563903808594))')\n",
    "geod = Geod(ellps=\"WGS84\")\n",
    "area = abs(geod.geometry_area_perimeter(poly)[0])\n",
    "\n",
    "print('# Geodesic area: {:12.3f} m²'.format(area))\n",
    "print('#                {:12.3f} km²'.format(area/1e6))\n",
    "print(poly)"
   ]
  },
  {
   "cell_type": "code",
   "execution_count": null,
   "id": "c221b0ef-7c42-4cc7-92fb-ddf525d3783a",
   "metadata": {
    "tags": []
   },
   "outputs": [],
   "source": [
    "# This is an example on how to use snappy to derive a specific band from a sentinel-1 product scene or output of processing operator.\n",
    "p = ProductIO.readProduct(\"/codede/Sentinel-1/SAR/SLC/2021/12/15/S1A_IW_SLC__1SDV_20211215T052543_20211215T052610_041015_04DF48_B184.SAFE/manifest.safe\")\n",
    "cpRvi = p.getBand('CpRVI')\n",
    "w = cpRvi.getRasterWidth()\n",
    "h = cpRvi.getRasterHeight()\n",
    "data = np.zeros(w * h, np.float32)\n",
    "cpRvi.readPixels(0, 0, w, h, data)\n",
    "p.dispose()\n",
    "data.shape = h, w\n",
    "imgplot = plt.imshow(data)\n",
    "imgplot.write_png(os.getcwd() + '/test_files/test.png')"
   ]
  },
  {
   "cell_type": "code",
   "execution_count": null,
   "id": "3a1a57f1-afeb-43ab-93d6-15cc8dd5aa76",
   "metadata": {},
   "outputs": [],
   "source": [
    "# how to add the path to the snap executable to the system path variable\n",
    "import sys\n",
    "sys.path.append('/opt/snap/bin/')"
   ]
  }
 ],
 "metadata": {
  "kernelspec": {
   "display_name": "env_basic",
   "language": "python",
   "name": "env_basic"
  },
  "language_info": {
   "codemirror_mode": {
    "name": "ipython",
    "version": 3
   },
   "file_extension": ".py",
   "mimetype": "text/x-python",
   "name": "python",
   "nbconvert_exporter": "python",
   "pygments_lexer": "ipython3",
   "version": "3.9.10"
  }
 },
 "nbformat": 4,
 "nbformat_minor": 5
}
